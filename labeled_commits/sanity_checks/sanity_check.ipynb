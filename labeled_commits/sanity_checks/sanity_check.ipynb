{
 "cells": [
  {
   "cell_type": "code",
   "execution_count": 3,
   "metadata": {},
   "outputs": [],
   "source": [
    "import pandas as pd\n",
    "import os\n",
    "datasets = ['amber', 'pcmsolver', 'hoomd', 'rmg-py', 'xenon']"
   ]
  },
  {
   "cell_type": "code",
   "execution_count": 3,
   "metadata": {},
   "outputs": [
    {
     "name": "stdout",
     "output_type": "stream",
     "text": [
      "(100, 3)\n",
      "Index([u'Document Title', u'Abstract', u'label'], dtype='object')\n"
     ]
    }
   ],
   "source": [
    "acc = {}\n",
    "df = pd.ExcelFile(\"amber_sample_1.xlsx\").parse(\"amber_sample\")\n",
    "print(df.shape)\n",
    "print(df.columns)"
   ]
  },
  {
   "cell_type": "code",
   "execution_count": 47,
   "metadata": {},
   "outputs": [],
   "source": [
    "for d in datasets:\n",
    "    acc[d] = {0: [0, 0], 1: [0, 0]}\n",
    "    fr_label = pd.read_csv(d + \"_sample.csv\")['label'].values.tolist()\n",
    "    sample_file_1 = pd.ExcelFile(d + \"_sample_1.xlsx\").parse(d + \"_sample\")\n",
    "    sample_file_2 = pd.ExcelFile(d + \"_sample_2.xlsx\").parse(d + \"_sample\")\n",
    "    label_sample_1 = sample_file_1['label'].values.tolist()\n",
    "    label_sample_2 = sample_file_2['label'].values.tolist()\n",
    "    length = len(fr_label)\n",
    "    for i in range(length):\n",
    "        acc[d][fr_label[i]][1] += 1\n",
    "        if math.isnan(label_sample_1[i]):\n",
    "            label_sample_1[i] = 0\n",
    "        if math.isnan(label_sample_2[i]):\n",
    "            label_sample_2[i] = 0\n",
    "        if fr_label[i] == label_sample_1[i] and fr_label[i] == label_sample_2[i]:\n",
    "            acc[d][fr_label[i]][0] += 1"
   ]
  },
  {
   "cell_type": "code",
   "execution_count": 48,
   "metadata": {},
   "outputs": [
    {
     "name": "stdout",
     "output_type": "stream",
     "text": [
      "{0: [44, 55], 1: [39, 45]}\n",
      "('amber', 0.8, 0.8666666666666667)\n",
      "0.83\n",
      "()\n",
      "{0: [1, 16], 1: [56, 84]}\n",
      "('hoomd', 0.0625, 0.6666666666666666)\n",
      "0.57\n",
      "()\n",
      "{0: [71, 75], 1: [20, 25]}\n",
      "('rmg-py', 0.9466666666666667, 0.8)\n",
      "0.91\n",
      "()\n",
      "{0: [25, 42], 1: [35, 58]}\n",
      "('pcmsolver', 0.5952380952380952, 0.603448275862069)\n",
      "0.6\n",
      "()\n",
      "{0: [17, 40], 1: [24, 60]}\n",
      "('xenon', 0.425, 0.4)\n",
      "0.41\n",
      "()\n"
     ]
    }
   ],
   "source": [
    "for d in acc.keys():\n",
    "    print(acc[d])\n",
    "    print(d, float(acc[d][0][0])/acc[d][0][1], float(acc[d][1][0])/acc[d][1][1])\n",
    "    print(float(acc[d][0][0] + acc[d][1][0])/(acc[d][0][1]+acc[d][1][1]))\n",
    "    print()"
   ]
  },
  {
   "cell_type": "code",
   "execution_count": 5,
   "metadata": {},
   "outputs": [],
   "source": [
    "from collections import Counter\n",
    "import math\n",
    "majority_voted_labels = {}\n",
    "for d in datasets:\n",
    "    majority_voted_labels[d] = []   \n",
    "    fr_label = pd.read_csv(d + \"_sample.csv\")['label'].values.tolist()\n",
    "    sample_file_1 = pd.ExcelFile(d + \"_sample_1.xlsx\").parse(d + \"_sample\")\n",
    "    sample_file_2 = pd.ExcelFile(d + \"_sample_2.xlsx\").parse(d + \"_sample\")\n",
    "    label_sample_1 = sample_file_1['label'].values.tolist()\n",
    "    label_sample_2 = sample_file_2['label'].values.tolist()\n",
    "    length = len(fr_label)\n",
    "    for i in range(length):\n",
    "        if math.isnan(label_sample_1[i]):\n",
    "            label_sample_1[i] = 0\n",
    "        l = [fr_label[i], label_sample_1[i], label_sample_2[i]]\n",
    "        most_common, num_most_common = Counter(l).most_common(1)[0]\n",
    "        \n",
    "        #major_l_i = max(set(l), key = l.count)\n",
    "        majority_voted_labels[d].append(most_common)"
   ]
  },
  {
   "cell_type": "code",
   "execution_count": 43,
   "metadata": {},
   "outputs": [
    {
     "name": "stdout",
     "output_type": "stream",
     "text": [
      "('amber', 46, 2, 9, 43)\n",
      "('pcmsolver', 33, 16, 9, 42)\n",
      "('hoomd', 14, 2, 2, 82)\n",
      "('rmg-py', 72, 2, 3, 23)\n",
      "('xenon', 38, 10, 2, 50)\n"
     ]
    }
   ],
   "source": [
    "from sklearn.metrics import confusion_matrix\n",
    "for d in datasets:\n",
    "    fr_label = pd.read_csv(d + \"_sample.csv\")['label'].values.tolist()\n",
    "    #print(fr_label)\n",
    "    #print(majority_voted_labels[d])\n",
    "    tn, fp, fn, tp = confusion_matrix(majority_voted_labels[d], fr_label).ravel()\n",
    "    print(d, tn, fp, fn, tp)"
   ]
  },
  {
   "cell_type": "code",
   "execution_count": null,
   "metadata": {},
   "outputs": [],
   "source": [
    "from collections import Counter\n",
    "import math\n",
    "majority_voted_labels = {}\n",
    "for d in datasets:\n",
    "    majority_voted_labels[d] = []   \n",
    "    fr_label = pd.read_csv(d + \"_sample.csv\")['label'].values.tolist()\n",
    "    length = len(fr_label)\n",
    "    for i in range(length):\n",
    "        if math.isnan(label_sample_1[i]):\n",
    "            label_sample_1[i] = 0\n",
    "        l = [fr_label[i], label_sample_1[i], label_sample_2[i]]\n",
    "        most_common, num_most_common = Counter(l).most_common(1)[0]\n",
    "        \n",
    "        #major_l_i = max(set(l), key = l.count)\n",
    "        majority_voted_labels[d].append(most_common)"
   ]
  },
  {
   "cell_type": "code",
   "execution_count": 9,
   "metadata": {},
   "outputs": [],
   "source": [
    "from nltk.stem import PorterStemmer\n",
    "from nltk.tokenize import sent_tokenize, word_tokenize\n",
    "import string\n",
    "\n",
    "ps = PorterStemmer()\n",
    "\n",
    "for d in datasets:\n",
    "    df = pd.read_csv(d + \"_sample.csv\")\n",
    "    commits_m = df['Abstract'].values.tolist()\n",
    "    buggy_commits = [0]*len(commits_m)\n",
    "    index = 0\n",
    "    check = set()\n",
    "    for m in commits_m:\n",
    "        try:\n",
    "            words = word_tokenize(m)\n",
    "            stemmed_w = [ps.stem(w) for w in words]\n",
    "        except TypeError:\n",
    "            print(\"TypeError\", m)\n",
    "            break\n",
    "        except UnicodeDecodeError:\n",
    "            print(\"UDError\", words)\n",
    "            break\n",
    "        #print(stemmed_w)\n",
    "        bug_key_words = set([\"bug\", \"fix\", \"wrong\", \"error\", \"fail\", \"problem\", \"patch\"])\n",
    "        check = set(stemmed_w).intersection(bug_key_words)\n",
    "        if len(check) > 0:\n",
    "            buggy_commits[index] = 1\n",
    "        index += 1\n",
    "    df[\"baseline\"] = buggy_commits\n",
    "        #final_sw = []\n",
    "        #flag = False\n",
    "        #for w in stemmed_w:\n",
    "            #if len(w) > 2 or w[0] in (string.digits + string.letters):\n",
    "                #final_sw.append(w)\n",
    "                #if not flag and w in [\"bug\", \"fix\", \"wrong\", \"error\", \"fail\", \"problem\", \"patch\"]:\n",
    "                    #flag = True\n",
    "                    #buggy_commits.append(index)\n",
    "    "
   ]
  },
  {
   "cell_type": "code",
   "execution_count": 13,
   "metadata": {},
   "outputs": [
    {
     "name": "stdout",
     "output_type": "stream",
     "text": [
      "('amber', 19, 29, 23, 29)\n",
      "('pcmsolver', 21, 28, 21, 30)\n",
      "('hoomd', 4, 12, 38, 46)\n",
      "('rmg-py', 31, 43, 11, 15)\n",
      "('xenon', 39, 9, 3, 49)\n"
     ]
    }
   ],
   "source": [
    "from sklearn.metrics import confusion_matrix\n",
    "\n",
    "for d in datasets:\n",
    "    fr_label = df[\"baseline\"].values.tolist()\n",
    "    #print(fr_label)\n",
    "    #print(majority_voted_labels[d])\n",
    "    tn, fp, fn, tp = confusion_matrix(majority_voted_labels[d], fr_label).ravel()\n",
    "    print(d, tn, fp, fn, tp)\n"
   ]
  },
  {
   "cell_type": "code",
   "execution_count": null,
   "metadata": {},
   "outputs": [],
   "source": []
  }
 ],
 "metadata": {
  "kernelspec": {
   "display_name": "Python 2",
   "language": "python",
   "name": "python2"
  },
  "language_info": {
   "codemirror_mode": {
    "name": "ipython",
    "version": 2
   },
   "file_extension": ".py",
   "mimetype": "text/x-python",
   "name": "python",
   "nbconvert_exporter": "python",
   "pygments_lexer": "ipython2",
   "version": "2.7.15"
  }
 },
 "nbformat": 4,
 "nbformat_minor": 2
}
